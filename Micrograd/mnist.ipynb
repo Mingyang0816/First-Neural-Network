{
 "cells": [
  {
   "cell_type": "markdown",
   "metadata": {},
   "source": [
    "# MNIST with micrograd\n",
    "In this notebook, you will implement a 2-layer (784-800-10) fully connected\n",
    "feed-forward neural network for MNIST classification."
   ]
  },
  {
   "cell_type": "code",
   "execution_count": 1,
   "metadata": {},
   "outputs": [
    {
     "name": "stdout",
     "output_type": "stream",
     "text": [
      "WARNING:tensorflow:From c:\\Users\\user\\anaconda3\\Lib\\site-packages\\keras\\src\\losses.py:2976: The name tf.losses.sparse_softmax_cross_entropy is deprecated. Please use tf.compat.v1.losses.sparse_softmax_cross_entropy instead.\n",
      "\n"
     ]
    }
   ],
   "source": [
    "from keras.datasets import mnist\n",
    "import matplotlib.pyplot as plt\n",
    "import numpy as np\n",
    "import csv\n",
    "import micrograd.nn as nn\n",
    "from micrograd.engine import Value\n",
    "%matplotlib inline"
   ]
  },
  {
   "cell_type": "markdown",
   "metadata": {},
   "source": [
    "First, let's setup our dataset. Keras automatically splits the MNIST data into\n",
    "train and test segments for us.\n",
    "\n",
    "The \"x\" variables are the images, while the \"y\" variables are the ground truths."
   ]
  },
  {
   "cell_type": "code",
   "execution_count": 2,
   "metadata": {},
   "outputs": [
    {
     "name": "stdout",
     "output_type": "stream",
     "text": [
      "Downloading data from https://storage.googleapis.com/tensorflow/tf-keras-datasets/mnist.npz\n",
      "11490434/11490434 [==============================] - 1s 0us/step\n",
      "train_x.shape=(60000, 28, 28)\n",
      "train_y.shape=(60000,)\n",
      "test_x.shape=(10000, 28, 28)\n",
      "test_y.shape=(10000,)\n"
     ]
    }
   ],
   "source": [
    "(train_x, train_y), (test_x, test_y) = mnist.load_data()\n",
    "print(f\"{train_x.shape=}\\n{train_y.shape=}\\n{test_x.shape=}\\n{test_y.shape=}\")"
   ]
  },
  {
   "cell_type": "markdown",
   "metadata": {},
   "source": [
    "Let's visualize one of the data points:"
   ]
  },
  {
   "cell_type": "code",
   "execution_count": 3,
   "metadata": {},
   "outputs": [
    {
     "data": {
      "image/png": "[encoded data removed]",
      "text/plain": [
       "<Figure size 640x480 with 1 Axes>"
      ]
     },
     "metadata": {},
     "output_type": "display_data"
    }
   ],
   "source": [
    "plt.imshow(train_x[0], cmap=\"gray\")\n",
    "plt.title(f\"Ground truth={train_y[0]}\");"
   ]
  },
  {
   "cell_type": "markdown",
   "metadata": {},
   "source": [
    "Now that we have our data loaded, we can initialize our model, using the\n",
    "abstractions we wrote in `micrograd/nn.py` (imported above as `nn`).\n",
    "\n",
    "Remember that we are looking to create a multi-layer perceptron, with one hidden\n",
    "layer of dimension 800, an input layer of 784, and output layer of 10.\n",
    "\n",
    "Since our input dimension is now 784, we need to remember to reshape the input\n",
    "images (and normalize)."
   ]
  },
  {
   "cell_type": "code",
   "execution_count": 4,
   "metadata": {},
   "outputs": [],
   "source": [
    "model = nn.MLP(784, [800, 10])\n",
    "\n",
    "train_x = train_x.reshape(-1, 784) / 255\n",
    "test_x = test_x.reshape(-1, 784) / 255"
   ]
  },
  {
   "cell_type": "markdown",
   "metadata": {},
   "source": [
    "Copy your implementation of softmax from step two:"
   ]
  },
  {
   "cell_type": "code",
   "execution_count": 5,
   "metadata": {},
   "outputs": [],
   "source": [
    "def softmax(z: list[Value], C:int=10) -> list[Value]:\n",
    "  denom = sum(list(zi.exp() for zi in z))\n",
    "  return list(zi.exp() / denom for zi in z)"
   ]
  },
  {
   "cell_type": "markdown",
   "metadata": {},
   "source": [
    "Now we can try evaluating the model (with random weights)."
   ]
  },
  {
   "cell_type": "code",
   "execution_count": 6,
   "metadata": {},
   "outputs": [
    {
     "data": {
      "text/plain": [
       "[Value(data=5.771592089496452e-59, grad=0),\n",
       " Value(data=7.520080908293728e-77, grad=0),\n",
       " Value(data=2.1430714148553027e-49, grad=0),\n",
       " Value(data=1.7681776093777289e-32, grad=0),\n",
       " Value(data=2.499163503499745e-35, grad=0),\n",
       " Value(data=0.00032041983330338567, grad=0),\n",
       " Value(data=8.996270267771324e-07, grad=0),\n",
       " Value(data=1.78684974774138e-19, grad=0),\n",
       " Value(data=4.276052183200776e-33, grad=0),\n",
       " Value(data=0.9996786805396699, grad=0)]"
      ]
     },
     "execution_count": 6,
     "metadata": {},
     "output_type": "execute_result"
    }
   ],
   "source": [
    "softmax(model(train_x[0]))"
   ]
  },
  {
   "cell_type": "markdown",
   "metadata": {},
   "source": [
    "Unfortunately, our engine is way to slow to train this much larger model. As such,\n",
    "pre-trained weights have been provided in the weights.csv file. The code below\n",
    "loads these weights into your model."
   ]
  },
  {
   "cell_type": "code",
   "execution_count": 7,
   "metadata": {},
   "outputs": [],
   "source": [
    "with open(\"weights.csv\", \"r\") as f:\n",
    "  reader = csv.reader(f)\n",
    "  weights = list(reader)\n",
    "\n",
    "for i, p in enumerate(model.parameters()):\n",
    "  p.data = float(weights[i][0])"
   ]
  },
  {
   "cell_type": "markdown",
   "metadata": {},
   "source": [
    "Now that our model is trained, let's try running it on some test examples.\n",
    "Try changing `SAMPLE_IDX` to see different examples.\n",
    "\n",
    "NOTE: This may be quite slow, depending on your computer."
   ]
  },
  {
   "cell_type": "code",
   "execution_count": 9,
   "metadata": {},
   "outputs": [
    {
     "data": {
      "image/png": "[encoded data removed]",
      "text/plain": [
       "<Figure size 640x480 with 1 Axes>"
      ]
     },
     "metadata": {},
     "output_type": "display_data"
    }
   ],
   "source": [
    "SAMPLE_IDX = 50\n",
    "\n",
    "pred = softmax(model(test_x[SAMPLE_IDX]))\n",
    "pred_idx = pred.index(max(pred, key=lambda x: x.data))\n",
    "plt.imshow(test_x[SAMPLE_IDX].reshape(28,28), cmap=\"gray\")\n",
    "plt.title(f\"Ground truth={test_y[SAMPLE_IDX]} Prediction={pred_idx}\");"
   ]
  }
 ],
 "metadata": {
  "kernelspec": {
   "display_name": "cv-fellowship",
   "language": "python",
   "name": "python3"
  },
  "language_info": {
   "codemirror_mode": {
    "name": "ipython",
    "version": 3
   },
   "file_extension": ".py",
   "mimetype": "text/x-python",
   "name": "python",
   "nbconvert_exporter": "python",
   "pygments_lexer": "ipython3",
   "version": "3.11.5"
  },
  "orig_nbformat": 4
 },
 "nbformat": 4,
 "nbformat_minor": 2
}
