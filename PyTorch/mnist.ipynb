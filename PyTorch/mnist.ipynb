{
 "cells": [
  {
   "cell_type": "markdown",
   "metadata": {},
   "source": [
    "# MNIST with PyTorch\n",
    "In this notebook, we will implement a fully connected network that classifies\n",
    "handwritten digits.\n",
    "\n",
    "This time, we will use the torchvision mnist dataset. The underlying data is\n",
    "the same as in the Keras version, but torchvision is easier to interface with\n",
    "from PyTorch."
   ]
  },
  {
   "cell_type": "code",
   "execution_count": 2,
   "metadata": {},
   "outputs": [],
   "source": [
    "from torchvision.datasets import MNIST\n",
    "from torchvision import transforms\n",
    "import matplotlib.pyplot as plt\n",
    "import torch\n",
    "%matplotlib inline\n",
    "\n",
    "DEVICE = torch.device(\"cpu\") # Put your device string here."
   ]
  },
  {
   "cell_type": "markdown",
   "metadata": {},
   "source": [
    "First, let's setup our dataset, as we did in the micrograd example. In addition,\n",
    "we will visualize a sample data point."
   ]
  },
  {
   "cell_type": "code",
   "execution_count": 3,
   "metadata": {},
   "outputs": [
    {
     "data": {
      "text/plain": [
       "Text(0.5, 1.0, 'Ground truth=5')"
      ]
     },
     "execution_count": 3,
     "metadata": {},
     "output_type": "execute_result"
    },
    {
     "data": {
      "image/png": "[encoded data removed]",
      "text/plain": [
       "<Figure size 640x480 with 1 Axes>"
      ]
     },
     "metadata": {},
     "output_type": "display_data"
    }
   ],
   "source": [
    "train_loader = MNIST(\"data\", download=True, train=True, transform=transforms.Compose([\n",
    "  transforms.ToTensor(),\n",
    "  transforms.Normalize((0.1307,), (0.3081,))\n",
    "]))\n",
    "test_loader = MNIST(\"data\", download=True, train=False, transform=transforms.Compose([\n",
    "  transforms.ToTensor(),\n",
    "  transforms.Normalize((0.1307,), (0.3081,))\n",
    "]))\n",
    "plt.imshow(train_loader[0][0][0], cmap=\"gray\")\n",
    "plt.title(f\"Ground truth={train_loader[0][1]}\")"
   ]
  },
  {
   "cell_type": "markdown",
   "metadata": {},
   "source": [
    "Let's first implement our model class."
   ]
  },
  {
   "cell_type": "code",
   "execution_count": 4,
   "metadata": {},
   "outputs": [],
   "source": [
    "import torch.nn as nn\n",
    "import torch.nn.functional as F\n",
    "\n",
    "class MNISTNet(nn.Module):\n",
    "  def __init__(self):\n",
    "    super().__init__()\n",
    "    # Note the use of nn.Sequential here for convenience.\n",
    "    self.layers = nn.Sequential(\n",
    "      nn.Flatten(),\n",
    "      nn.Linear(784, 800),\n",
    "      nn.ReLU(),\n",
    "      nn.Linear(800, 10),\n",
    "      nn.Softmax(dim=1)\n",
    "    )\n",
    "\n",
    "  def forward(self, x):\n",
    "    return self.layers(x) # Using nn.Sequential makes this easy."
   ]
  },
  {
   "cell_type": "markdown",
   "metadata": {},
   "source": [
    "Now we will instantiate our model, loss function, and optimizer:"
   ]
  },
  {
   "cell_type": "code",
   "execution_count": 5,
   "metadata": {},
   "outputs": [],
   "source": [
    "model = MNISTNet()\n",
    "loss_fn = nn.CrossEntropyLoss()\n",
    "optimizer = torch.optim.SGD(model.parameters(), lr=0.01)"
   ]
  },
  {
   "cell_type": "markdown",
   "metadata": {},
   "source": [
    "This time, now that we have a much more powerful engine, we can actually train\n",
    "our model!\n",
    "\n",
    "Specifically note that instead of performing full-batch gradient descent, like\n",
    "we did in `iris.ipynb`, we are using \"mini-batch\" gradient descent, so that we\n",
    "aren't training on the entire dataset at once."
   ]
  },
  {
   "cell_type": "code",
   "execution_count": 6,
   "metadata": {},
   "outputs": [
    {
     "name": "stdout",
     "output_type": "stream",
     "text": [
      "Epoch 0 loss: 1.4649088382720947\n",
      "Epoch 1 loss: 1.4613401889801025\n",
      "Epoch 2 loss: 1.4611555337905884\n",
      "Epoch 3 loss: 1.461155652999878\n",
      "Epoch 4 loss: 1.4611510038375854\n",
      "Epoch 5 loss: 1.4611507654190063\n",
      "Epoch 6 loss: 1.4611517190933228\n",
      "Epoch 7 loss: 1.461150050163269\n",
      "Epoch 8 loss: 1.461150050163269\n",
      "Epoch 9 loss: 1.461150050163269\n"
     ]
    }
   ],
   "source": [
    "for epoch in range(10):\n",
    "  for i, (x, y) in enumerate(train_loader):\n",
    "    x = x.to(DEVICE)\n",
    "    y = torch.tensor(y).to(DEVICE)\n",
    "    optimizer.zero_grad()\n",
    "    y_pred = model(x)\n",
    "    loss = loss_fn(y_pred, torch.tensor([y]))\n",
    "    loss.backward()\n",
    "    optimizer.step()\n",
    "  print(f\"Epoch {epoch} loss: {loss}\")"
   ]
  },
  {
   "cell_type": "code",
   "execution_count": 8,
   "metadata": {},
   "outputs": [
    {
     "name": "stdout",
     "output_type": "stream",
     "text": [
      "Final Accuracy: tensor([0.9801])\n"
     ]
    }
   ],
   "source": [
    "print(\"Final Accuracy:\", sum(torch.argmax(model(x.to(DEVICE)), dim=1) == torch.tensor(y).to(DEVICE) for x, y in test_loader) / len(test_loader))"
   ]
  },
  {
   "cell_type": "markdown",
   "metadata": {},
   "source": [
    "Now that our model is trained, try running it on some test examples, and see how it does!"
   ]
  },
  {
   "cell_type": "code",
   "execution_count": 13,
   "metadata": {},
   "outputs": [
    {
     "data": {
      "text/plain": [
       "Text(0.5, 0, 'Prediction=5')"
      ]
     },
     "execution_count": 13,
     "metadata": {},
     "output_type": "execute_result"
    },
    {
     "data": {
      "image/png": "[encoded data removed]",
      "text/plain": [
       "<Figure size 640x480 with 1 Axes>"
      ]
     },
     "metadata": {},
     "output_type": "display_data"
    }
   ],
   "source": [
    "SAMPLE_IDX = 1003\n",
    "x, y = test_loader[SAMPLE_IDX]\n",
    "plt.imshow(x[0], cmap=\"gray\")\n",
    "plt.title(f\"Ground truth={y}\")\n",
    "pred = torch.argmax(model(x.to(DEVICE)))\n",
    "plt.xlabel(f\"Prediction={pred}\")"
   ]
  }
 ],
 "metadata": {
  "kernelspec": {
   "display_name": "cv-fellowship",
   "language": "python",
   "name": "python3"
  },
  "language_info": {
   "codemirror_mode": {
    "name": "ipython",
    "version": 3
   },
   "file_extension": ".py",
   "mimetype": "text/x-python",
   "name": "python",
   "nbconvert_exporter": "python",
   "pygments_lexer": "ipython3",
   "version": "3.11.5"
  }
 },
 "nbformat": 4,
 "nbformat_minor": 2
}
