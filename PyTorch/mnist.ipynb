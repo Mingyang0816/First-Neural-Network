{
 "cells": [
  {
   "cell_type": "markdown",
   "metadata": {},
   "source": [
    "# MNIST with PyTorch\n",
    "In this notebook, we will implement a fully connected network that classifies\n",
    "handwritten digits.\n",
    "\n",
    "This time, we will use the torchvision mnist dataset. The underlying data is\n",
    "the same as in the Keras version, but torchvision is easier to interface with\n",
    "from PyTorch."
   ]
  },
  {
   "cell_type": "code",
   "execution_count": 8,
   "metadata": {},
   "outputs": [],
   "source": [
    "from torchvision.datasets import MNIST\n",
    "from torchvision import transforms\n",
    "import matplotlib.pyplot as plt\n",
    "import torch\n",
    "import torch.nn as nn\n",
    "import torch.nn.functional as F\n",
    "\n",
    "%matplotlib inline\n",
    "\n",
    "DEVICE = torch.device(\"cuda\") # Put your device string here."
   ]
  },
  {
   "cell_type": "markdown",
   "metadata": {},
   "source": [
    "First, let's setup our dataset, as we did in the micrograd example. In addition,\n",
    "we will visualize a sample data point."
   ]
  },
  {
   "cell_type": "code",
   "execution_count": 9,
   "metadata": {},
   "outputs": [
    {
     "data": {
      "text/plain": [
       "Text(0.5, 1.0, 'Ground truth=5')"
      ]
     },
     "execution_count": 9,
     "metadata": {},
     "output_type": "execute_result"
    },
    {
     "data": {
      "image/png": "[encoded data removed]",
      "text/plain": [
       "<Figure size 640x480 with 1 Axes>"
      ]
     },
     "metadata": {},
     "output_type": "display_data"
    }
   ],
   "source": [
    "train_set = MNIST(\"data\", download=True, train=True, transform=transforms.Compose([\n",
    "  transforms.ToTensor(),\n",
    "  transforms.Normalize((0.1307,), (0.3081,))\n",
    "]), target_transform=transforms.Compose([torch.tensor, lambda y: F.one_hot(y, 10)]))\n",
    "train_loader = torch.utils.data.DataLoader(train_set, batch_size=1024)\n",
    "test_set = MNIST(\"data\", download=True, train=False, transform=transforms.Compose([\n",
    "  transforms.ToTensor(),\n",
    "  transforms.Normalize((0.1307,), (0.3081,))\n",
    "]), target_transform=transforms.Compose([torch.tensor]))\n",
    "plt.imshow(train_set[0][0][0], cmap=\"gray\")\n",
    "plt.title(f\"Ground truth={train_set[0][1].argmax()}\")"
   ]
  },
  {
   "cell_type": "markdown",
   "metadata": {},
   "source": [
    "Let's first implement our model class."
   ]
  },
  {
   "cell_type": "code",
   "execution_count": 10,
   "metadata": {},
   "outputs": [],
   "source": [
    "class MNISTNet(nn.Module):\n",
    "  def __init__(self):\n",
    "    super().__init__()\n",
    "    # Note the use of nn.Sequential here for convenience.\n",
    "    self.layers = nn.Sequential(\n",
    "      nn.Flatten(),\n",
    "      nn.Linear(784, 800),\n",
    "      nn.ReLU(),\n",
    "      nn.Linear(800, 10)\n",
    "    )\n",
    "\n",
    "  def forward(self, x):\n",
    "    return self.layers(x) # Using nn.Sequential makes this easy."
   ]
  },
  {
   "cell_type": "markdown",
   "metadata": {},
   "source": [
    "Now we will instantiate our model, loss function, and optimizer:"
   ]
  },
  {
   "cell_type": "code",
   "execution_count": 19,
   "metadata": {},
   "outputs": [
    {
     "data": {
      "text/plain": [
       "MNISTNet(\n",
       "  (layers): Sequential(\n",
       "    (0): Flatten(start_dim=1, end_dim=-1)\n",
       "    (1): Linear(in_features=784, out_features=800, bias=True)\n",
       "    (2): ReLU()\n",
       "    (3): Linear(in_features=800, out_features=10, bias=True)\n",
       "  )\n",
       ")"
      ]
     },
     "execution_count": 19,
     "metadata": {},
     "output_type": "execute_result"
    }
   ],
   "source": [
    "model = MNISTNet()\n",
    "loss_fn = nn.CrossEntropyLoss()\n",
    "optimizer = torch.optim.SGD(model.parameters(), lr=0.05)\n",
    "model.to(DEVICE)"
   ]
  },
  {
   "cell_type": "markdown",
   "metadata": {},
   "source": [
    "This time, now that we have a much more powerful engine, we can actually train\n",
    "our model!\n",
    "\n",
    "Specifically note that instead of performing full-batch gradient descent, like\n",
    "we did in `iris.ipynb`, we are using \"mini-batch\" gradient descent, so that we\n",
    "aren't training on the entire dataset at once."
   ]
  },
  {
   "cell_type": "code",
   "execution_count": 20,
   "metadata": {},
   "outputs": [
    {
     "name": "stdout",
     "output_type": "stream",
     "text": [
      "Epoch 0 loss: 2.026780128479004\n",
      "Epoch 1 loss: 1.7903779745101929\n",
      "Epoch 2 loss: 1.7348846197128296\n",
      "Epoch 3 loss: 1.6685311794281006\n",
      "Epoch 4 loss: 1.6433109045028687\n",
      "Epoch 5 loss: 1.6189539432525635\n",
      "Epoch 6 loss: 1.581926703453064\n",
      "Epoch 7 loss: 1.5661852359771729\n",
      "Epoch 8 loss: 1.557105541229248\n",
      "Epoch 9 loss: 1.5510523319244385\n",
      "Epoch 10 loss: 1.5466315746307373\n",
      "Epoch 11 loss: 1.543205976486206\n",
      "Epoch 12 loss: 1.5404380559921265\n",
      "Epoch 13 loss: 1.538130521774292\n",
      "Epoch 14 loss: 1.5361509323120117\n",
      "Epoch 15 loss: 1.5344170331954956\n",
      "Epoch 16 loss: 1.5328688621520996\n",
      "Epoch 17 loss: 1.5314689874649048\n",
      "Epoch 18 loss: 1.5301897525787354\n",
      "Epoch 19 loss: 1.5290038585662842\n",
      "Epoch 20 loss: 1.5278979539871216\n",
      "Epoch 21 loss: 1.5268598794937134\n",
      "Epoch 22 loss: 1.5258777141571045\n",
      "Epoch 23 loss: 1.5249364376068115\n",
      "Epoch 24 loss: 1.524032473564148\n",
      "Epoch 25 loss: 1.523157000541687\n",
      "Epoch 26 loss: 1.522311806678772\n",
      "Epoch 27 loss: 1.5214866399765015\n",
      "Epoch 28 loss: 1.520682454109192\n",
      "Epoch 29 loss: 1.5198901891708374\n",
      "Epoch 30 loss: 1.5191072225570679\n",
      "Epoch 31 loss: 1.518335223197937\n",
      "Epoch 32 loss: 1.5175704956054688\n",
      "Epoch 33 loss: 1.5168169736862183\n",
      "Epoch 34 loss: 1.5160694122314453\n",
      "Epoch 35 loss: 1.5153254270553589\n",
      "Epoch 36 loss: 1.5145864486694336\n",
      "Epoch 37 loss: 1.5138558149337769\n",
      "Epoch 38 loss: 1.513134241104126\n",
      "Epoch 39 loss: 1.5124220848083496\n",
      "Epoch 40 loss: 1.5117226839065552\n",
      "Epoch 41 loss: 1.511036992073059\n",
      "Epoch 42 loss: 1.510364294052124\n",
      "Epoch 43 loss: 1.5097088813781738\n",
      "Epoch 44 loss: 1.509071707725525\n",
      "Epoch 45 loss: 1.5084524154663086\n",
      "Epoch 46 loss: 1.5078511238098145\n",
      "Epoch 47 loss: 1.5072687864303589\n",
      "Epoch 48 loss: 1.5067092180252075\n",
      "Epoch 49 loss: 1.5061677694320679\n",
      "Epoch 50 loss: 1.5056519508361816\n",
      "Epoch 51 loss: 1.5051559209823608\n",
      "Epoch 52 loss: 1.5046823024749756\n",
      "Epoch 53 loss: 1.5042273998260498\n",
      "Epoch 54 loss: 1.5037912130355835\n",
      "Epoch 55 loss: 1.5033756494522095\n",
      "Epoch 56 loss: 1.502976655960083\n",
      "Epoch 57 loss: 1.5025907754898071\n",
      "Epoch 58 loss: 1.5022203922271729\n",
      "Epoch 59 loss: 1.5018640756607056\n",
      "Epoch 60 loss: 1.5015194416046143\n",
      "Epoch 61 loss: 1.5011842250823975\n",
      "Epoch 62 loss: 1.5008584260940552\n",
      "Epoch 63 loss: 1.5005429983139038\n",
      "Epoch 64 loss: 1.500235676765442\n",
      "Epoch 65 loss: 1.4999380111694336\n",
      "Epoch 66 loss: 1.4996501207351685\n",
      "Epoch 67 loss: 1.4993693828582764\n",
      "Epoch 68 loss: 1.499096155166626\n",
      "Epoch 69 loss: 1.4988278150558472\n",
      "Epoch 70 loss: 1.498563289642334\n",
      "Epoch 71 loss: 1.498302698135376\n",
      "Epoch 72 loss: 1.4980484247207642\n",
      "Epoch 73 loss: 1.4978002309799194\n",
      "Epoch 74 loss: 1.4975579977035522\n",
      "Epoch 75 loss: 1.497320294380188\n",
      "Epoch 76 loss: 1.4970858097076416\n",
      "Epoch 77 loss: 1.4968563318252563\n",
      "Epoch 78 loss: 1.4966340065002441\n",
      "Epoch 79 loss: 1.4964196681976318\n",
      "Epoch 80 loss: 1.4962092638015747\n",
      "Epoch 81 loss: 1.4960029125213623\n",
      "Epoch 82 loss: 1.4957997798919678\n",
      "Epoch 83 loss: 1.495600938796997\n",
      "Epoch 84 loss: 1.4954043626785278\n",
      "Epoch 85 loss: 1.495210886001587\n",
      "Epoch 86 loss: 1.4950225353240967\n",
      "Epoch 87 loss: 1.4948370456695557\n",
      "Epoch 88 loss: 1.4946545362472534\n",
      "Epoch 89 loss: 1.4944745302200317\n",
      "Epoch 90 loss: 1.4942983388900757\n",
      "Epoch 91 loss: 1.494125247001648\n",
      "Epoch 92 loss: 1.4939547777175903\n",
      "Epoch 93 loss: 1.493786096572876\n",
      "Epoch 94 loss: 1.493619680404663\n",
      "Epoch 95 loss: 1.4934556484222412\n",
      "Epoch 96 loss: 1.4932948350906372\n",
      "Epoch 97 loss: 1.4931365251541138\n",
      "Epoch 98 loss: 1.492978572845459\n",
      "Epoch 99 loss: 1.4928221702575684\n"
     ]
    }
   ],
   "source": [
    "for epoch in range(100):\n",
    "  for i, (x, y) in enumerate(train_loader):\n",
    "    x,y = x.to(DEVICE), y.to(DEVICE)\n",
    "    optimizer.zero_grad()\n",
    "    y_pred = model(x).softmax(dim=1)\n",
    "    loss = loss_fn(y_pred, y.float())\n",
    "    loss.backward()\n",
    "    optimizer.step()\n",
    "  print(f\"Epoch {epoch} loss: {loss}\")"
   ]
  },
  {
   "cell_type": "code",
   "execution_count": 21,
   "metadata": {},
   "outputs": [
    {
     "name": "stdout",
     "output_type": "stream",
     "text": [
      "Final Accuracy: tensor([0.9507], device='cuda:0')\n"
     ]
    }
   ],
   "source": [
    "print(\"Final Accuracy:\", sum(torch.argmax(model(x.to(DEVICE)), dim=1) == y.to(DEVICE) for x, y in test_set) / len(test_set))"
   ]
  },
  {
   "cell_type": "markdown",
   "metadata": {},
   "source": [
    "Now that our model is trained, try running it on some test examples, and see how it does!"
   ]
  },
  {
   "cell_type": "code",
   "execution_count": 22,
   "metadata": {},
   "outputs": [
    {
     "data": {
      "text/plain": [
       "Text(0.5, 0, 'Prediction=6')"
      ]
     },
     "execution_count": 22,
     "metadata": {},
     "output_type": "execute_result"
    },
    {
     "data": {
      "image/png": "[encoded data removed]",
      "text/plain": [
       "<Figure size 640x480 with 1 Axes>"
      ]
     },
     "metadata": {},
     "output_type": "display_data"
    }
   ],
   "source": [
    "SAMPLE_IDX = 2000\n",
    "x, y = test_set[SAMPLE_IDX]\n",
    "plt.imshow(x[0], cmap=\"gray\")\n",
    "plt.title(f\"Ground truth={y}\")\n",
    "pred = torch.argmax(model(x.to(DEVICE)))\n",
    "plt.xlabel(f\"Prediction={pred}\")"
   ]
  }
 ],
 "metadata": {
  "kernelspec": {
   "display_name": "cv-fellowship",
   "language": "python",
   "name": "python3"
  },
  "language_info": {
   "codemirror_mode": {
    "name": "ipython",
    "version": 3
   },
   "file_extension": ".py",
   "mimetype": "text/x-python",
   "name": "python",
   "nbconvert_exporter": "python",
   "pygments_lexer": "ipython3",
   "version": "3.11.5"
  }
 },
 "nbformat": 4,
 "nbformat_minor": 2
}
